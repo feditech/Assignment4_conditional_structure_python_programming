{
 "cells": [
  {
   "cell_type": "markdown",
   "id": "0837fe0f-8025-4277-9036-958d477f6dd9",
   "metadata": {},
   "source": [
    "# Conditional Structure"
   ]
  },
  {
   "cell_type": "markdown",
   "id": "e0cbcf6f-0c99-4cc4-9fef-364d07f20f4c",
   "metadata": {},
   "source": [
    "### 1. Write a program that prompts the user to input a number and display if the number is even or odd. "
   ]
  },
  {
   "cell_type": "code",
   "execution_count": 3,
   "id": "74f1dc24-377f-44eb-8017-a1c61337e8e3",
   "metadata": {},
   "outputs": [
    {
     "name": "stdin",
     "output_type": "stream",
     "text": [
      "Input a digit 2\n"
     ]
    },
    {
     "name": "stdout",
     "output_type": "stream",
     "text": [
      "2 is even\n"
     ]
    }
   ],
   "source": [
    "number = int(input(\"Input a digit\"))\n",
    "if number % 2 ==0:\n",
    "    print(f\"{number} is even\")\n",
    "else:\n",
    "    print(f\"{number} is odd\")"
   ]
  },
  {
   "cell_type": "markdown",
   "id": "ab7e5c53-3b10-48f1-b9a6-4eb8ce4219c1",
   "metadata": {},
   "source": [
    "### 2. Write a Python program that takes an age as input and determines whether a person \n",
    "is eligible to vote. If the age is 18 or above, print \"You are eligible to vote.\" Otherwise,\r\n",
    "print \"You are not eligible to vote yet.\" \r"
   ]
  },
  {
   "cell_type": "code",
   "execution_count": 4,
   "id": "af860efc-63a0-4c50-9d0d-dd23a609e33b",
   "metadata": {},
   "outputs": [
    {
     "name": "stdin",
     "output_type": "stream",
     "text": [
      "Enter age 21\n"
     ]
    },
    {
     "name": "stdout",
     "output_type": "stream",
     "text": [
      "You are eligible to vote.\n"
     ]
    }
   ],
   "source": [
    "age = int(input(\"Enter age\"))\n",
    "if age >= 18:\n",
    "    print(\"You are eligible to vote.\")\n",
    "else:\n",
    "    print(\"You are not eligible to vote yet.\")\n",
    "    "
   ]
  },
  {
   "cell_type": "markdown",
   "id": "95dde781-970f-4d1d-8350-a33df79cc413",
   "metadata": {},
   "source": [
    "### 3. Write a program that prompts the user to input two integers and outputs the largest. \r"
   ]
  },
  {
   "cell_type": "code",
   "execution_count": 5,
   "id": "def07993-ba0f-4671-bb58-5df8d94c482b",
   "metadata": {},
   "outputs": [
    {
     "name": "stdin",
     "output_type": "stream",
     "text": [
      "Enter 1st number 2\n",
      "Enter 2nd number 3\n"
     ]
    },
    {
     "name": "stdout",
     "output_type": "stream",
     "text": [
      "3 is largest\n"
     ]
    }
   ],
   "source": [
    "num1 = int(input(\"Enter 1st number\"))\n",
    "num2 = int(input(\"Enter 2nd number\"))\n",
    "if num1 > num2:\n",
    "    print(f\"{num1} is largest\")\n",
    "else:\n",
    "    print(f\"{num2} is largest\")\n",
    "    "
   ]
  },
  {
   "cell_type": "markdown",
   "id": "d65693df-3118-4c93-b01a-5d9a74da55da",
   "metadata": {},
   "source": [
    "### 4. Write a program that prompts the user to enter a number and determines whether it \r\n",
    "is positive, negative, or zero. The program should print \"Positive\" if the number is \r\n",
    "greater than 0, \"Negative\" if the number is less than 0, and \"Zero\" if the number is 0. \r"
   ]
  },
  {
   "cell_type": "code",
   "execution_count": 7,
   "id": "efb3c75f-845f-4477-bbaa-c5a0c43aa5fe",
   "metadata": {},
   "outputs": [
    {
     "name": "stdin",
     "output_type": "stream",
     "text": [
      "Enter a number -3\n"
     ]
    },
    {
     "name": "stdout",
     "output_type": "stream",
     "text": [
      "NEGATIVE\n"
     ]
    }
   ],
   "source": [
    "num = int(input(\"Enter a number\"))\n",
    "if num == 0:\n",
    "    print(\"ZERO\")\n",
    "elif num > 0:\n",
    "    print(\"POSITIVE\")\n",
    "else:\n",
    "    print(\"NEGATIVE\")  "
   ]
  },
  {
   "cell_type": "markdown",
   "id": "80d788ae-9f4b-4dd4-9f35-5de64365a0a6",
   "metadata": {},
   "source": [
    "### 5. Write a program that prompts the user to enter their age and prints the \r\n",
    "corresponding age group. The program should use the following age groups: \r\n",
    "0-12: Child \r\n",
    "13-19: Teenager \r\n",
    "20-59: Adult \r\n",
    "60 and above: Senior Citizen  \r"
   ]
  },
  {
   "cell_type": "code",
   "execution_count": 9,
   "id": "fe031530-a672-48ed-8720-2ae18bd96df9",
   "metadata": {},
   "outputs": [
    {
     "name": "stdin",
     "output_type": "stream",
     "text": [
      "Enter age -2\n"
     ]
    },
    {
     "name": "stdout",
     "output_type": "stream",
     "text": [
      "Age can be negative\n"
     ]
    }
   ],
   "source": [
    "age = int(input(\"Enter age\"))\n",
    "if age<0:\n",
    "    print(\"Age can be negative\")\n",
    "elif age <= 12:\n",
    "    print(\"You are a child.\")\n",
    "elif age>=13 and age <=19:\n",
    "    print(\"You are a teenager.\")\n",
    "elif age>=20 and age <=59:\n",
    "    print(\"You are a adult.\")\n",
    "else:\n",
    "    print(\"You are a senior citizen.\")"
   ]
  },
  {
   "cell_type": "markdown",
   "id": "be7f50d8-68f5-4f36-9647-7d1baae8c3a7",
   "metadata": {},
   "source": [
    "### 6. Write a program that prompts the user to input a number from 1 to 7. The program ###\n",
    "should display the corresponding day for the given number. For example, if the user \r\n",
    "types 1, the output should be Sunday. If the user types 7, the output should be \r\n",
    "Saturday. If the number is not between 1 to 7 user should get error message as shown \r\n",
    "in sample output.\r\n",
    "ut. t. zen  \r"
   ]
  },
  {
   "cell_type": "code",
   "execution_count": 1,
   "id": "85f488b1-4547-49a1-9d54-d0de02d23288",
   "metadata": {},
   "outputs": [
    {
     "name": "stdin",
     "output_type": "stream",
     "text": [
      "Enter a number  1 to 7 2\n"
     ]
    },
    {
     "name": "stdout",
     "output_type": "stream",
     "text": [
      "Monday\n"
     ]
    }
   ],
   "source": [
    "num = int(input(\"Enter a number  1 to 7\"))\n",
    "days = [\"\",\"Sunday\",\"Monday\", \"Tuesday\", \"Wednesday\", \"Thursday\", \"Friday\", \"Saturday\"]\n",
    "if num < 1 and num >7:\n",
    "    print(\"invalid number\")\n",
    "else:\n",
    "    print(days[num])"
   ]
  },
  {
   "cell_type": "markdown",
   "id": "1a70edc8-1717-43e1-bbe7-68920dffa3e3",
   "metadata": {},
   "source": [
    "### 7. Write a program that prompts the user to enter their weight (in kilograms) and height \r\n",
    "(in meters). The program should calculate the Body Mass Index (BMI) using the formula: \r\n",
    "BMI = weight / (height * height). The program should then classify the BMI into one of \r\n",
    "the following categories: \r\n",
    "less than 18.5 - Underweight \r\n",
    "BMI between 18.5 and 24.9 - Normal weight \r\n",
    "BMI between 25 and 29.9 - Overweight \r\n",
    "BMI 30 or greater - Obesity en  \r"
   ]
  },
  {
   "cell_type": "code",
   "execution_count": 10,
   "id": "aa2fdb4c-025b-4696-ba3e-1505b3021c94",
   "metadata": {},
   "outputs": [
    {
     "name": "stdin",
     "output_type": "stream",
     "text": [
      "Enter weight in kg 65\n",
      "Enter height in meter 2\n"
     ]
    },
    {
     "name": "stdout",
     "output_type": "stream",
     "text": [
      "Underweight\n"
     ]
    }
   ],
   "source": [
    "weight = int(input(\"Enter weight in kg\"))\n",
    "height = int(input(\"Enter height in meter\"))\n",
    "BMI = weight / (height * height)\n",
    "if BMI<18.5:\n",
    "    print(\"Underweight\")\n",
    "elif BMI>=18.5 and age <=24.9:\n",
    "    print(\"Normal weight.\")\n",
    "elif BMI>=25 and age <=29.9:\n",
    "    print(\"Overweight.\")\n",
    "else:\n",
    "    print(\"Obesity.\")"
   ]
  },
  {
   "cell_type": "markdown",
   "id": "36c9014c-4129-493b-8f38-bef01e6069ed",
   "metadata": {},
   "source": [
    "### 8. The marks obtained by a student in 3 different subjects are input by the user. Your \r\n",
    "program should calculate the average of subjects and display the grade. The student \r\n",
    "gets a grade as per the following rules: \r\n",
    "Average Grade \r\n",
    "90-100 A \r\n",
    "80-89 B \r\n",
    "70-79 C \r\n",
    "60-69 D \r\n",
    "0-59 F ity en  \r"
   ]
  },
  {
   "cell_type": "code",
   "execution_count": 12,
   "id": "391f87f1-948c-429e-9ce3-0f77b6ff68d0",
   "metadata": {},
   "outputs": [
    {
     "name": "stdin",
     "output_type": "stream",
     "text": [
      "Enter 1st subject marks 50\n",
      "Enter 2nd subject marks 50\n",
      "Enter 3rd subject marks 50\n"
     ]
    },
    {
     "name": "stdout",
     "output_type": "stream",
     "text": [
      "Grade F\n"
     ]
    }
   ],
   "source": [
    "sub1 = int(input(\"Enter 1st subject marks\"))\n",
    "sub2 = int(input(\"Enter 2nd subject marks\"))\n",
    "sub3 = int(input(\"Enter 3rd subject marks\"))\n",
    "avg = ((sub1+sub2+sub3)/300) * 100\n",
    "if avg<59:\n",
    "    print(\"Grade F\")\n",
    "elif avg>=60 and age <=69:\n",
    "    print(\"Grade D\")\n",
    "elif avg>=70 and age <=79:\n",
    "    print(\"Grade C\")\n",
    "elif avg>=80 and age <=89:\n",
    "    print(\"Grade B\")\n",
    "else:\n",
    "    print(\"Grade A\")"
   ]
  },
  {
   "cell_type": "raw",
   "id": "5ba2cc65-668d-4c47-be2a-3bd256962a53",
   "metadata": {},
   "source": [
    "9. The roots of the quadratic equation ax2\n",
    " + bx + c = 0, a ≠ 0 are given by the following \n",
    "formula: \n",
    "In this formula, the term b2\n",
    " - 4ac is called the discriminant. If b2\n",
    " - 4ac = 0, then the \n",
    "equation has two equal roots. \n",
    "If b2\n",
    " - 4ac > 0, the equation has two real roots. If b2\n",
    " - 4ac < 0, the equation has two \n",
    "complex roots. \n",
    "Write a program that prompts the user to input the value of a (the coefficient of x2\n",
    "), b \n",
    "(the coefficient of x), and c (the constant term) and outputs the roots of the quadratic \n",
    "equation. uation. \r"
   ]
  },
  {
   "cell_type": "code",
   "execution_count": 14,
   "id": "5b0ebf15-ef7e-4b60-862b-1e031a9d4f27",
   "metadata": {},
   "outputs": [
    {
     "name": "stdin",
     "output_type": "stream",
     "text": [
      "Enter coefficient of x2 4\n",
      "Enter coefficient of x 8\n",
      "Enter constant term 4\n"
     ]
    },
    {
     "name": "stdout",
     "output_type": "stream",
     "text": [
      "Equation has equal roots\n"
     ]
    }
   ],
   "source": [
    "a = int(input(\"Enter coefficient of x2\"))\n",
    "b = int(input(\"Enter coefficient of x\"))\n",
    "c = int(input(\"Enter constant term\"))\n",
    "d =  (b**2) - (4 * a * c)\n",
    "if d == 0:\n",
    "    print(\"Equation has equal roots\")\n",
    "elif d > 0:\n",
    "    print(\"Equation has real roots\")\n",
    "else:\n",
    "    print(\"Equation has complex roots\")"
   ]
  },
  {
   "cell_type": "markdown",
   "id": "d777f780-1bf3-4473-aa6b-369a66c8bb6f",
   "metadata": {},
   "source": [
    "### 10. Write a program that prompts the user to enter three numbers and sorts them in \n",
    "ascending order. The program should print the sorted numbers. "
   ]
  },
  {
   "cell_type": "code",
   "execution_count": 32,
   "id": "0f27ec9d-1130-42fc-85a5-a0af3db9685f",
   "metadata": {},
   "outputs": [
    {
     "name": "stdin",
     "output_type": "stream",
     "text": [
      "Enter 1st number 77\n",
      "Enter 2nd number 77\n",
      "Enter 3rd number 77\n"
     ]
    },
    {
     "name": "stdout",
     "output_type": "stream",
     "text": [
      "sorted numbers in asc (77, 77, 77)\n"
     ]
    }
   ],
   "source": [
    "list= [int(input(\"Enter 1st number\")),int(input(\"Enter 2nd number\")),int(input(\"Enter 3rd number\"))]\n",
    "for i in range(len(list)):\n",
    "    for j in range(i+1,len(list)):\n",
    "        if(list[i] > list[j]):\n",
    "            list[i],list[j] = list[j],list[i]\n",
    "print(\"sorted numbers in asc\",tuple(list))"
   ]
  },
  {
   "cell_type": "markdown",
   "id": "6db4d6b4-a374-49df-82be-64e98fdd6b3b",
   "metadata": {},
   "source": [
    "### 11. Write a program that prompts the user to input three integers and outputs the largest \r"
   ]
  },
  {
   "cell_type": "code",
   "execution_count": 36,
   "id": "95247fcf-d18d-4a4b-b686-cf7cf0f46167",
   "metadata": {},
   "outputs": [
    {
     "name": "stdin",
     "output_type": "stream",
     "text": [
      "Enter 1st number 22\n",
      "Enter 2nd number 33\n",
      "Enter 3rd number 11\n"
     ]
    },
    {
     "name": "stdout",
     "output_type": "stream",
     "text": [
      "largest number is 33\n"
     ]
    }
   ],
   "source": [
    "list= [int(input(\"Enter 1st number\")),int(input(\"Enter 2nd number\")),int(input(\"Enter 3rd number\"))]\n",
    "largest = list[0]\n",
    "for num in list:\n",
    "    if(num > largest):\n",
    "        largest = num\n",
    "print(\"largest number is\",largest)"
   ]
  },
  {
   "cell_type": "markdown",
   "id": "f3ba1b85-5b27-40f6-a01a-81e2773dbc62",
   "metadata": {},
   "source": [
    "### 12. Write a program that prompts the user to input a character and determine the character is vowel or consonant.."
   ]
  },
  {
   "cell_type": "code",
   "execution_count": 41,
   "id": "798f2a69-3f7c-424d-b8d5-ec357e0409c8",
   "metadata": {},
   "outputs": [
    {
     "name": "stdin",
     "output_type": "stream",
     "text": [
      "Enter an alphabet A\n"
     ]
    },
    {
     "name": "stdout",
     "output_type": "stream",
     "text": [
      "VOWEL\n"
     ]
    }
   ],
   "source": [
    "char = input(\"Enter an alphabet\").lower()\n",
    "if not char.isalpha():\n",
    "    print(\"Only alphabet allowed\")\n",
    "elif char in \"aeiou\":\n",
    "    print(\"VOWEL\")\n",
    "else:\n",
    "    print(\"CONSONANT\")"
   ]
  },
  {
   "cell_type": "markdown",
   "id": "7fce1f72-5300-4882-87a0-11fa83644069",
   "metadata": {},
   "source": [
    "### 13. Write a program that prompts the user to input a year and determine whether the \r\n",
    "year is a leap year or not. \r\n",
    "Leap Years are any year that can be evenly divided by 4. A year that is evenly divisible by \r\n",
    "100 is a leap year only if it is also evenly divisible by 400. Example: \r\n",
    "1992 Leap Year \r\n",
    "2000 Leap Year \r\n",
    "1900 NOT a Leap Year \r\n",
    "1995 NOT a Leap Year "
   ]
  },
  {
   "cell_type": "code",
   "execution_count": 56,
   "id": "53f12b0b-08b2-46d7-af17-d827cfbbe36a",
   "metadata": {},
   "outputs": [
    {
     "name": "stdin",
     "output_type": "stream",
     "text": [
      "Enter a year 1900\n"
     ]
    },
    {
     "name": "stdout",
     "output_type": "stream",
     "text": [
      "Not LEAP\n"
     ]
    }
   ],
   "source": [
    "year = int(input(\"Enter a year\"))\n",
    "if year % 4 ==0:\n",
    "    if year % 100 ==0:\n",
    "        if year % 400 ==0:\n",
    "            print(\"LEAP\")\n",
    "        else:\n",
    "            print(\"Not LEAP\")\n",
    "    else:\n",
    "        print(\"LEAP\")\n",
    "else:\n",
    "    print(\"Not LEAP\")"
   ]
  },
  {
   "cell_type": "markdown",
   "id": "e289fc71-a19d-4579-a0c1-c1444adc5593",
   "metadata": {},
   "source": [
    "### 14. Write a program that prompts the user to input number of calls and calculate the monthly telephone bill as per following rule.\n",
    "- Minimum Rs. 200 for up to 100 calls. \r",
    "- \n",
    "Plus Rs. 0.60 per call for next 50 calls\n",
    "- \r\n",
    "Plus Rs. 0.50 per call for next 50 call\n",
    "-  \r\n",
    "Plus Rs. 0.40 per call for any call beyond 200 calls"
   ]
  },
  {
   "cell_type": "code",
   "execution_count": null,
   "id": "53056fe6-3515-4252-bd72-1d9888ac2e8e",
   "metadata": {},
   "outputs": [],
   "source": []
  },
  {
   "cell_type": "code",
   "execution_count": null,
   "id": "c538cfcc-ae03-4a11-aca7-a9ec236a6eb6",
   "metadata": {},
   "outputs": [],
   "source": []
  },
  {
   "cell_type": "code",
   "execution_count": null,
   "id": "98c5778f-0574-4fd0-9f36-2d40f2b83473",
   "metadata": {},
   "outputs": [],
   "source": []
  },
  {
   "cell_type": "code",
   "execution_count": null,
   "id": "8ff79142-d8e2-479b-97e7-6cca6280ef9c",
   "metadata": {},
   "outputs": [],
   "source": []
  },
  {
   "cell_type": "code",
   "execution_count": null,
   "id": "eaed7d72-1b06-4aa0-b218-9df3b8c09cd8",
   "metadata": {},
   "outputs": [],
   "source": []
  },
  {
   "cell_type": "code",
   "execution_count": null,
   "id": "067c99e9-adab-4e1b-9a10-8b083a255866",
   "metadata": {},
   "outputs": [],
   "source": []
  },
  {
   "cell_type": "code",
   "execution_count": null,
   "id": "7125a52f-b64c-4188-bee2-6049995ea28d",
   "metadata": {},
   "outputs": [],
   "source": []
  }
 ],
 "metadata": {
  "kernelspec": {
   "display_name": "Python 3 (ipykernel)",
   "language": "python",
   "name": "python3"
  },
  "language_info": {
   "codemirror_mode": {
    "name": "ipython",
    "version": 3
   },
   "file_extension": ".py",
   "mimetype": "text/x-python",
   "name": "python",
   "nbconvert_exporter": "python",
   "pygments_lexer": "ipython3",
   "version": "3.11.7"
  }
 },
 "nbformat": 4,
 "nbformat_minor": 5
}
